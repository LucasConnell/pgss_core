{
 "cells": [
  {
   "cell_type": "markdown",
   "metadata": {},
   "source": [
    "# Fibonacci Review!\n",
    "\n",
    "But first... a quick review of for loops. \n",
    "\n",
    "\n",
    "The general structure of a `for` loop is\n",
    "`for [small thing] in a [big thing]:\n",
    "    [instructions]`\n",
    "    \n",
    "If there are $n$ `[small thing]`s in the `[big thing]`, then `[instructions]` will happen $n$ times, once for each `[small thing]`. The thing that comes after the `for` is the name of a temporary variable that assumes the identity of each `[small thing]` for every iteration of the loop. \n",
    "\n",
    "Let's see a bunch of examples!"
   ]
  },
  {
   "cell_type": "code",
   "execution_count": null,
   "metadata": {},
   "outputs": [],
   "source": [
    "# Example 1:\n",
    "\n",
    "for num in [7, 23, 19, 100]:\n",
    "    print(num + 8)"
   ]
  },
  {
   "cell_type": "code",
   "execution_count": null,
   "metadata": {},
   "outputs": [],
   "source": [
    "# Example 2:\n",
    "\n",
    "for i in range(5): # this is practically equivalent to \"for i in [0, 1, 2, 3, 4]:\"\n",
    "    print(i)\n",
    "    \n",
    "    \n",
    "# range function is weird... \n",
    "print(range(5))"
   ]
  },
  {
   "cell_type": "code",
   "execution_count": null,
   "metadata": {},
   "outputs": [],
   "source": [
    "# Example 3:\n",
    "\n",
    "for c in 'a word!':\n",
    "    print(c + '!')"
   ]
  },
  {
   "cell_type": "code",
   "execution_count": null,
   "metadata": {},
   "outputs": [],
   "source": [
    "# Example 3.1:\n",
    "\n",
    "for c in ['a', ' ', 'w', 'o', 'r', 'd', '!']:\n",
    "    print(c + \"!\")"
   ]
  },
  {
   "cell_type": "markdown",
   "metadata": {},
   "source": [
    "### Let's do a practice problem!\n",
    "\n",
    "See if you can use a for loop to print out the first ten powers of 2. (Let's say, starting at $2^0$.)\n",
    "\n",
    "Tip: to write exponents in Python, instead of something like `2^3`, write `2**3`\n",
    "\n",
    "(`^` means something else in Python)"
   ]
  },
  {
   "cell_type": "code",
   "execution_count": null,
   "metadata": {},
   "outputs": [],
   "source": [
    "for i in range(10):\n",
    "    print(2**i)"
   ]
  },
  {
   "cell_type": "markdown",
   "metadata": {},
   "source": [
    "## Walkthrough of the Fibonacci `for` loop\n",
    "\n",
    "Our goal was to find the 100th Fibonacci number. Here's how we did it..."
   ]
  },
  {
   "cell_type": "code",
   "execution_count": null,
   "metadata": {},
   "outputs": [],
   "source": [
    "prev = 0 # first fib num\n",
    "current = 1 # second fib num\n",
    "\n",
    "for i in range(99):\n",
    "    nxt = prev + current\n",
    "    prev = current\n",
    "    current = nxt\n",
    "    \n",
    "print(current)"
   ]
  },
  {
   "cell_type": "markdown",
   "metadata": {},
   "source": [
    "^ That's the solution! \n",
    "\n",
    "Here's the logic. `prev` starts out as $f_1$ and `current` starts out as $f_2$.\n",
    "On the first round of the `for` loop, `nxt` becomes $f_3$, `prev` is updated to become $f_2$ and `current` becomes \n",
    "$f_3$. (The line `nxt = prev + current` is doing the classic $f_n = f_{n-1} + f_{n-2}$ thing.)\n",
    "\n",
    "On the 2nd round, `nxt` becomes $f_4$ (the sum of the new `prev` and `current`). `prev` becomes $f_3$, and `current` becomes $f_4$. \n",
    "\n",
    ".\n",
    "\n",
    ".\n",
    "\n",
    ".\n",
    "\n",
    "On the nth round, `nxt` becomes $f_{n+2}$, `prev` becomes $f_{n}$, and `current` becomes $f_{n+1}$. \n",
    ".\n",
    "\n",
    ".\n",
    "\n",
    ".\n",
    "\n",
    "So, on the 99th round, `nxt` becomes $f_{101}$, `prev` becoms $f_{99}$ and `current` becomes $f_{100}$. \n",
    "\n",
    "\n",
    "The `for` loop only goes for 99 rounds! So after it ends, `current` is holding the Fibonacci number that we want!"
   ]
  },
  {
   "cell_type": "markdown",
   "metadata": {},
   "source": [
    "## Another challenge!\n",
    "\n",
    "Consider the following recursive relationship:\n",
    "\n",
    "$g_{0} = 0 \\\\\n",
    "g_{1} = 0 \\\\\n",
    "g_{2} = 1 \\\\\n",
    "g_{n} = g_{n - 1} + g_{n - 2} + g_{n - 3}$\n",
    "\n",
    "\n",
    "(So, $g_{3} = g_{2} + g_{1} + g_{0} = 1$. And $g_{4} = g_{3} + g_{2} + g_{1} = 2$...)\n",
    "\n",
    "Find $g_{100}$ using a `for` loop."
   ]
  },
  {
   "cell_type": "code",
   "execution_count": null,
   "metadata": {},
   "outputs": [],
   "source": [
    "# do the challenge here!\n",
    "\n"
   ]
  }
 ],
 "metadata": {
  "kernelspec": {
   "display_name": "Python 3",
   "language": "python",
   "name": "python3"
  },
  "language_info": {
   "codemirror_mode": {
    "name": "ipython",
    "version": 3
   },
   "file_extension": ".py",
   "mimetype": "text/x-python",
   "name": "python",
   "nbconvert_exporter": "python",
   "pygments_lexer": "ipython3",
   "version": "3.7.6"
  }
 },
 "nbformat": 4,
 "nbformat_minor": 4
}

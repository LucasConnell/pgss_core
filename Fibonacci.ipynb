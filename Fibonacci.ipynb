{
 "cells": [
  {
   "cell_type": "markdown",
   "metadata": {},
   "source": [
    "# Fibonacci Review!\n",
    "\n",
    "But first... a quick review of for loops. \n",
    "\n",
    "\n",
    "The general structure of a `for` loop is\n",
    "`for [small thing] in a [big thing]:\n",
    "    [instructions]`\n",
    "    \n",
    "If there are $n$ `[small thing]`s in the `[big thing]`, then `[instructions]` will happen $n$ times, once for each `[small thing]`. The thing that comes after the `for` is the name of a temporary variable that assumes the identity of each `[small thing]` for every iteration of the loop. \n",
    "\n",
    "Let's see a bunch of examples!"
   ]
  },
  {
   "cell_type": "code",
   "execution_count": null,
   "metadata": {},
   "outputs": [],
   "source": [
    "# Example 1:\n",
    "\n",
    "for num in [7, 23, 19, 100]:\n",
    "    print(num + 8)"
   ]
  },
  {
   "cell_type": "code",
   "execution_count": null,
   "metadata": {},
   "outputs": [],
   "source": [
    "# Example 2:\n",
    "\n",
    "for i in range(5): # this is practically equivalent to \"for i in [0, 1, 2, 3, 4]:\"\n",
    "    print(i)\n",
    "    \n",
    "    \n",
    "# range function is weird... \n",
    "print(range(5))"
   ]
  },
  {
   "cell_type": "code",
   "execution_count": null,
   "metadata": {},
   "outputs": [],
   "source": [
    "# Example 3:\n",
    "\n",
    "for c in 'a word!':\n",
    "    print(c + '!')"
   ]
  },
  {
   "cell_type": "code",
   "execution_count": null,
   "metadata": {},
   "outputs": [],
   "source": [
    "# Example 3.1:\n",
    "\n",
    "for c in ['a', ' ', 'w', 'o', 'r', 'd', '!']:\n",
    "    print(c + \"!\")"
   ]
  },
  {
   "cell_type": "markdown",
   "metadata": {},
   "source": [
    "### Let's do a practice problem!\n",
    "\n",
    "See if you can use a for loop to print out the first ten cubed numbers. (Starting at $1^3$.)\n",
    "\n",
    "Tip: to write exponents in Python, instead of something like `2^3`, write `2**3`\n",
    "\n",
    "(`^` means something else in Python)"
   ]
  },
  {
   "cell_type": "code",
   "execution_count": 13,
   "metadata": {},
   "outputs": [
    {
     "name": "stdout",
     "output_type": "stream",
     "text": [
      "1\n",
      "8\n",
      "27\n",
      "64\n",
      "125\n",
      "216\n",
      "343\n",
      "512\n",
      "729\n",
      "1000\n"
     ]
    }
   ],
   "source": [
    "for i in range(10):\n",
    "    print((i+1)**3) # Range goes from 0 - 9, that's why we had to add that 1"
   ]
  },
  {
   "cell_type": "markdown",
   "metadata": {},
   "source": [
    "## Walkthrough of the Fibonacci `for` loop\n",
    "\n",
    "Our goal was to find the 100th Fibonacci number. Here's how we did it..."
   ]
  },
  {
   "cell_type": "code",
   "execution_count": 11,
   "metadata": {},
   "outputs": [
    {
     "name": "stdout",
     "output_type": "stream",
     "text": [
      "354224848179261915075\n"
     ]
    }
   ],
   "source": [
    "prev = 0 # first fib num\n",
    "current = 1 # second fib num\n",
    "\n",
    "for i in range(99):\n",
    "    nxt = prev + current\n",
    "    prev = current\n",
    "    current = nxt\n",
    "    \n",
    "print(current)"
   ]
  },
  {
   "cell_type": "markdown",
   "metadata": {},
   "source": [
    "^ That's the solution! \n",
    "\n",
    "Here's the logic. `prev` starts out as $f_1$ and `current` starts out as $f_2$.\n",
    "On the first round of the `for` loop, `nxt` becomes $f_3$, `prev` is updated to become $f_2$ and `current` becomes \n",
    "$f_3$. (The line `nxt = prev + current` is doing the classic $f_n = f_{n-1} + f_{n-2}$ thing.)\n",
    "\n",
    "On the 2nd round, `nxt` becomes $f_4$ (the sum of the new `prev` and `current`). `prev` becomes $f_3$, and `current` becomes $f_4$. \n",
    "\n",
    ".\n",
    "\n",
    ".\n",
    "\n",
    ".\n",
    "\n",
    "On the nth round, `nxt` becomes $f_{n+2}$, `prev` becomes $f_{n}$, and `current` becomes $f_{n+1}$. \n",
    ".\n",
    "\n",
    ".\n",
    "\n",
    ".\n",
    "\n",
    "So, on the 99th round, `nxt` becomes $f_{101}$, `prev` becoms $f_{99}$ and `current` becomes $f_{100}$. \n",
    "\n",
    "\n",
    "The `for` loop only goes for 99 rounds! So after it ends, `current` is holding the Fibonacci number that we want!"
   ]
  },
  {
   "cell_type": "markdown",
   "metadata": {},
   "source": [
    "## Another challenge!\n",
    "\n",
    "Consider the following recursive relationship:\n",
    "\n",
    "$g_{0} = 0 \\\\\n",
    "g_{1} = 0 \\\\\n",
    "g_{2} = 1 \\\\\n",
    "g_{n} = g_{n - 1} + g_{n - 2} + g_{n - 3}$\n",
    "\n",
    "\n",
    "(So, $g_{3} = g_{2} + g_{1} + g_{0} = 1$. And $g_{4} = g_{3} + g_{2} + g_{1} = 2$...)\n",
    "\n",
    "Find $g_{100}$ using a `for` loop."
   ]
  },
  {
   "cell_type": "code",
   "execution_count": 3,
   "metadata": {},
   "outputs": [
    {
     "name": "stdout",
     "output_type": "stream",
     "text": [
      "53324762928098149064722658\n"
     ]
    }
   ],
   "source": [
    "# do the challenge here!\n",
    "\n",
    "pprev = 0 # g0\n",
    "prev = 0 # g1\n",
    "curr = 1 # g2\n",
    "\n",
    "for i in range(99):\n",
    "    nxt = pprev + prev + curr # on the first pass, this becomes g3\n",
    "    pprev = prev # move pprev to the next number in the sequence\n",
    "    prev = curr # move prev to the next number\n",
    "    curr = nxt # move curr to the next number \n",
    "    \n",
    "    # nxt = pprev + prev + curr\n",
    "    # curr, prev, pprev = curr + prev + pprev, curr, prev \n",
    "    # pprev, prev, curr = prev, curr, curr + prev + pprev\n",
    "\n",
    "# After 99 rounds, curr and nxt are *both* the 101st number (because of the last line, curr = next)\n",
    "# After 99 rounds, prev is the 100th number\n",
    "# After 99 rounds, pprev is the 99th number\n",
    "# So, we print out prev!\n",
    "print(prev)"
   ]
  },
  {
   "cell_type": "code",
   "execution_count": 6,
   "metadata": {},
   "outputs": [
    {
     "name": "stdout",
     "output_type": "stream",
     "text": [
      "53324762928098149064722658\n"
     ]
    }
   ],
   "source": [
    "# here's Gabriella's version!\n",
    "\n",
    "early = 0\n",
    "prev = 0\n",
    "curr = 1\n",
    "\n",
    "for i in range(98):\n",
    "    nxt = early + prev + curr\n",
    "    early = prev\n",
    "    prev = curr\n",
    "    curr = nxt\n",
    "\n",
    "    \n",
    "# After 98 rounds, curr and nxt are *both* the 100th number\n",
    "# After 98 rounds, prev is the 99th number\n",
    "# After 98 rounds, pprev is the 98th number\n",
    "# So, we print out curr!\n",
    "print(curr)"
   ]
  },
  {
   "cell_type": "code",
   "execution_count": 12,
   "metadata": {},
   "outputs": [
    {
     "name": "stdout",
     "output_type": "stream",
     "text": [
      "53324762928098149064722658\n"
     ]
    }
   ],
   "source": [
    "# Here's the wacky version where you update everything at once and only need 3 variables!\n",
    "\n",
    "pprev = 0\n",
    "prev = 0\n",
    "curr = 1\n",
    "\n",
    "for i in range(99):\n",
    "    curr, prev, pprev = curr + prev + pprev, curr, prev \n",
    "    # ^ All of these updates happen at the same time,\n",
    "    # so we don't run into issues with variables being updated too early and messing things up\n",
    "    \n",
    "    \n",
    "    # Order matters in the sense that the first thing on the left becomes the first thing on the right, etc.\n",
    "    # But, we could've written any of the following and everything would work the same:\n",
    "    # prev, curr, pprev = curr, curr + prev + pprev, prev \n",
    "    # pprev, prev, curr = prev, curr, curr + prev + pprev\n",
    "    # ... any permutation works! (You can substitute those lines in to see for yourself!)\n",
    "    \n",
    "\n",
    "    # Another way to think about it: the whole right side is evaluated first, \n",
    "    # and then all of those actual numbers are sent over to become the things on the left\n",
    "    \n",
    "    \n",
    "# prev is the 100th number after 99 rounds    \n",
    "print(prev)"
   ]
  },
  {
   "cell_type": "code",
   "execution_count": null,
   "metadata": {},
   "outputs": [],
   "source": []
  }
 ],
 "metadata": {
  "kernelspec": {
   "display_name": "Python 3",
   "language": "python",
   "name": "python3"
  },
  "language_info": {
   "codemirror_mode": {
    "name": "ipython",
    "version": 3
   },
   "file_extension": ".py",
   "mimetype": "text/x-python",
   "name": "python",
   "nbconvert_exporter": "python",
   "pygments_lexer": "ipython3",
   "version": "3.7.6"
  }
 },
 "nbformat": 4,
 "nbformat_minor": 4
}

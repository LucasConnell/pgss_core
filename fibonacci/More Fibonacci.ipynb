{
 "cells": [
  {
   "cell_type": "markdown",
   "metadata": {},
   "source": [
    "# Functions\n",
    "\n",
    "Functions in Python are very similar to functions in math! Here's a math-y looking one:"
   ]
  },
  {
   "cell_type": "code",
   "execution_count": null,
   "metadata": {},
   "outputs": [],
   "source": [
    "# x is a variable representing the input to the function (also called an argument)\n",
    "# the stuff after \"return\" is the output of the function\n",
    "\n",
    "def f(x):\n",
    "    return 3*x + 5\n"
   ]
  },
  {
   "cell_type": "markdown",
   "metadata": {},
   "source": [
    "Notice how nothing happens when you run the cell above. That's because we only *defined* the function, we never actually evaluated it. Let's evaluate it:"
   ]
  },
  {
   "cell_type": "code",
   "execution_count": null,
   "metadata": {},
   "outputs": [],
   "source": [
    "print(f(4))"
   ]
  },
  {
   "cell_type": "markdown",
   "metadata": {},
   "source": [
    "Functions don't necessarily need arguments:"
   ]
  },
  {
   "cell_type": "code",
   "execution_count": null,
   "metadata": {},
   "outputs": [],
   "source": [
    "def no_inputs():\n",
    "    return \"I don't need inputs to return something!\"\n",
    "\n",
    "\n",
    "print(no_inputs())"
   ]
  },
  {
   "cell_type": "markdown",
   "metadata": {},
   "source": [
    "Functions can have multiple arguments:"
   ]
  },
  {
   "cell_type": "code",
   "execution_count": null,
   "metadata": {},
   "outputs": [],
   "source": [
    "def multi_arg(num1, num2, num3):\n",
    "    return num1 + num2 + num3\n",
    "\n",
    "print(multi_arg(4, 5, 17))"
   ]
  },
  {
   "cell_type": "markdown",
   "metadata": {},
   "source": [
    "Functions don't have to return anything!"
   ]
  },
  {
   "cell_type": "code",
   "execution_count": null,
   "metadata": {},
   "outputs": [],
   "source": [
    "def no_returns(x, y, z):\n",
    "    a = x - y - z\n",
    "    \n",
    "print(no_returns(1, 2, 3)) # This prints out None, which means that no_returns doesn't return anything. "
   ]
  },
  {
   "cell_type": "markdown",
   "metadata": {},
   "source": [
    "### Practice Problem:\n",
    "\n",
    "Write a function that takes two variables as input and returns their product. "
   ]
  },
  {
   "cell_type": "code",
   "execution_count": null,
   "metadata": {},
   "outputs": [],
   "source": [
    "# practice problem goes here!\n",
    "\n"
   ]
  },
  {
   "cell_type": "markdown",
   "metadata": {},
   "source": [
    "# Fibonacci Challenge Mode\n",
    "\n",
    "Our goal is to find the 100th Fibonacci number *without* using a loop! Here's one way to approach this:"
   ]
  },
  {
   "cell_type": "code",
   "execution_count": null,
   "metadata": {},
   "outputs": [],
   "source": [
    "def fibonacci(n):\n",
    "    if n == 1:\n",
    "        return 0\n",
    "    elif n == 2:\n",
    "        return 1\n",
    "    else:\n",
    "        return fibonacci(n - 1) + fibonacci(n-2)\n",
    "    \n",
    "\n",
    "print(fibonacci(10)) # just try calculating the 10th, it takes too long to calculate the 100th!"
   ]
  },
  {
   "cell_type": "markdown",
   "metadata": {},
   "source": [
    "Here's the logic of the code. If `n` is 1, then we're asking for $f_1$, so we get 0. If `n` is 2, then we're asking for $f_2$, so we get 1. Otherwise, since we know that $f_n = f_{n-1} + f_{n-2}$, we return `fibonacci(n-1) + fibonacci(n-2)`. Note: the computer isn't able to return anything right away! After you call `fibonacci(100)`, it's forced to start working on `fibonacci(99)`. In working on `fibonacci(99)`, it's forced to start working on `fibonacci(98)`. In working on `fibonacci(98)`, it's forced to start working on `fibonacci(97)`... \n",
    "\n",
    "This continues all the way down until it's forced to work on `fibonacci(2)`. Then, your computer is like, \"nice! I know this one! It's 1!\". The thing that forced it to work on `fibonacci(2)` was `fibonacci(3)`, so now this calculation is halfway done! Slowly, your computer works its way back up and is able to figure out what `fibonacci(100)` is. \n",
    "\n",
    "Here's a picture that I think better explains who's calling who:\n",
    "\n",
    "![Fib Tree](./fib.png)\n",
    "(from Abelson/Sussman, *Structure and Interpretation of Computer Programs*)\n",
    "\n",
    "\n",
    "\n",
    "An important thing to keep in mind is that the computer has no memory of previous completed calculations. For example, if the computer is currently calculating `fibonacci(5)`, it needs to now calculate both `fibonacci(4)` and `fibonacci(3)`. The process of calculating `fibonacci(4)` will necessarily involve calculating `fibonacci(3)`, but this doesn't make the original call to `fibonacci(4)` any easier. (You can see this in the tree diagram: there are a bunch of repeated function calls.) "
   ]
  },
  {
   "cell_type": "markdown",
   "metadata": {},
   "source": [
    "For an extra challenge, see if you can figure out why it takes so long to calculate $f_{100}$... (hint: how many times does the computer call `fibonacci(n)`)?\n",
    "\n",
    "For an extra extra challenge, see if you can write a faster version of this function (that still doesn't use a loop!)\n",
    "\n"
   ]
  },
  {
   "cell_type": "code",
   "execution_count": null,
   "metadata": {},
   "outputs": [],
   "source": []
  }
 ],
 "metadata": {
  "kernelspec": {
   "display_name": "Python 3",
   "language": "python",
   "name": "python3"
  },
  "language_info": {
   "codemirror_mode": {
    "name": "ipython",
    "version": 3
   },
   "file_extension": ".py",
   "mimetype": "text/x-python",
   "name": "python",
   "nbconvert_exporter": "python",
   "pygments_lexer": "ipython3",
   "version": "3.7.6"
  }
 },
 "nbformat": 4,
 "nbformat_minor": 4
}
